{
  "cells": [
    {
      "cell_type": "code",
      "source": [
        "from google.colab import drive\n",
        "drive.mount('/content/drive')"
      ],
      "metadata": {
        "colab": {
          "base_uri": "https://localhost:8080/"
        },
        "id": "wT2x-mAP63Z7",
        "outputId": "91fd9fdd-84d9-472c-e7d1-1af4255dbbaa"
      },
      "execution_count": 1,
      "outputs": [
        {
          "output_type": "stream",
          "name": "stdout",
          "text": [
            "Mounted at /content/drive\n"
          ]
        }
      ]
    },
    {
      "cell_type": "code",
      "source": [
        "from tensorflow.keras.models import load_model\n",
        "model = load_model('/content/drive/MyDrive/VGG16_Rice_Model.h5')"
      ],
      "metadata": {
        "colab": {
          "base_uri": "https://localhost:8080/"
        },
        "id": "jdBbIStk65kE",
        "outputId": "8caa27d0-839f-4876-fba5-ff802deeff59"
      },
      "execution_count": 2,
      "outputs": [
        {
          "output_type": "stream",
          "name": "stderr",
          "text": [
            "WARNING:absl:Compiled the loaded model, but the compiled metrics have yet to be built. `model.compile_metrics` will be empty until you train or evaluate the model.\n"
          ]
        }
      ]
    },
    {
      "cell_type": "code",
      "source": [
        "class_names = ['Bacterialblight','Blast','Brownspot','Tungro']"
      ],
      "metadata": {
        "id": "Nxw1Vteg7aIA"
      },
      "execution_count": 3,
      "outputs": []
    },
    {
      "cell_type": "code",
      "source": [
        "from tensorflow.keras.preprocessing import image\n",
        "import numpy as np\n",
        "\n",
        "def load_and_preprocess_image(img_path):\n",
        "  img = image.load_img(img_path, target_size=(224, 224))\n",
        "  img_array = image.img_to_array(img)\n",
        "  img_array = img_array/255.0\n",
        "  img_array = np.expand_dims(img_array,axis=0)\n",
        "  return img_array"
      ],
      "metadata": {
        "id": "8nogpTkG71Ba"
      },
      "execution_count": 4,
      "outputs": []
    },
    {
      "cell_type": "code",
      "source": [
        "img_path = '/content/images.jpg'\n",
        "img = load_and_preprocess_image(img_path)\n",
        "prediction = model.predict(img)\n",
        "predicted_class = class_names[np.argmax(prediction)]\n",
        "confidence = np.max(prediction)*100\n",
        "print(f'Predicted class: {predicted_class}')\n",
        "print(f'Confidence: {confidence:.2f}%')"
      ],
      "metadata": {
        "colab": {
          "base_uri": "https://localhost:8080/"
        },
        "id": "KxxFHTEl8lgZ",
        "outputId": "76e98435-bab9-4a4d-902d-518c6abf844e"
      },
      "execution_count": 8,
      "outputs": [
        {
          "output_type": "stream",
          "name": "stdout",
          "text": [
            "\u001b[1m1/1\u001b[0m \u001b[32m━━━━━━━━━━━━━━━━━━━━\u001b[0m\u001b[37m\u001b[0m \u001b[1m0s\u001b[0m 497ms/step\n",
            "Predicted class: Tungro\n",
            "Confidence: 100.00%\n"
          ]
        }
      ]
    }
  ],
  "metadata": {
    "colab": {
      "provenance": []
    },
    "kernelspec": {
      "display_name": "Python 3",
      "name": "python3"
    }
  },
  "nbformat": 4,
  "nbformat_minor": 0
}